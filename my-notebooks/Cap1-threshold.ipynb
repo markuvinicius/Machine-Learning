{
 "cells": [
  {
   "cell_type": "code",
   "execution_count": 5,
   "metadata": {
    "collapsed": true
   },
   "outputs": [],
   "source": [
    "# This code is supporting material for the book\n",
    "# Building Machine Learning Systems with Python\n",
    "# by Willi Richert and Luis Pedro Coelho\n",
    "# published by PACKT Publishing\n",
    "#\n",
    "# It is made available under the MIT License\n",
    "\n",
    "import numpy as np\n",
    "from sklearn.datasets import load_iris\n",
    "\n",
    "\n",
    "# This function was called ``learn_model`` in the first edition\n",
    "def fit_model(features, labels):\n",
    "    '''Learn a simple threshold model'''\n",
    "    best_acc = -1.0\n",
    "    # Loop over all the features:\n",
    "    for fi in range(features.shape[1]):\n",
    "        thresh = features[:, fi].copy()\n",
    "        # test all feature values in order:\n",
    "        thresh.sort()\n",
    "        for t in thresh:\n",
    "            pred = (features[:, fi] > t)\n",
    "\n",
    "            # Measure the accuracy of this \n",
    "            acc = (pred == labels).mean()\n",
    "\n",
    "            rev_acc = (pred == ~labels).mean()\n",
    "            if rev_acc > acc:\n",
    "                acc = rev_acc\n",
    "                reverse = True\n",
    "            else:\n",
    "                reverse = False\n",
    "            if acc > best_acc:\n",
    "                best_acc = acc\n",
    "                best_fi = fi\n",
    "                best_t = t\n",
    "                best_reverse = reverse\n",
    "\n",
    "    # A model is a threshold and an index\n",
    "    return best_t, best_fi, best_reverse\n",
    "\n",
    "\n",
    "# This function was called ``apply_model`` in the first edition\n",
    "def predict(model, features):\n",
    "    '''Apply a learned model'''\n",
    "    # A model is a pair as returned by fit_model\n",
    "    t, fi, reverse = model\n",
    "    if reverse:\n",
    "        return features[:, fi] <= t\n",
    "    else:\n",
    "        return features[:, fi] > t\n",
    "\n",
    "def accuracy(features, labels, model):\n",
    "    '''Compute the accuracy of the model'''\n",
    "    preds = predict(model, features)\n",
    "    return np.mean(preds == labels)"
   ]
  },
  {
   "cell_type": "code",
   "execution_count": 24,
   "metadata": {
    "collapsed": false
   },
   "outputs": [],
   "source": [
    "data = load_iris()\n",
    "features = data['data']\n",
    "labels = data['target_names'][data['target']]\n",
    "\n",
    "# We are going to remove the setosa examples as they are too easy:\n",
    "is_setosa = (labels == 'setosa')\n",
    "features = features[~is_setosa]\n",
    "labels = labels[~is_setosa]\n",
    "\n",
    "# Now we classify virginica vs non-virginica\n",
    "is_virginica = (labels == 'virginica')\n",
    "\n",
    "# Split the data in two: testing and training\n",
    "testing = np.tile([True, False], 50) # testing = [True,False,True,False,True,False...]"
   ]
  },
  {
   "cell_type": "code",
   "execution_count": 25,
   "metadata": {
    "collapsed": false
   },
   "outputs": [
    {
     "name": "stdout",
     "output_type": "stream",
     "text": [
      "Training accuracy was 96.0%.\n",
      "Testing accuracy was 90.0% (N = 50).\n",
      "\n"
     ]
    }
   ],
   "source": [
    "\n",
    "# Training is the negation of testing: i.e., datapoints not used for testing,\n",
    "# will be used for training\n",
    "training = ~testing\n",
    "\n",
    "model = fit_model(features[training], is_virginica[training])\n",
    "train_accuracy = accuracy(features[training], is_virginica[training], model)\n",
    "test_accuracy = accuracy(features[testing], is_virginica[testing], model)\n",
    "\n",
    "print('''\\\n",
    "Training accuracy was {0:.1%}.\n",
    "Testing accuracy was {1:.1%} (N = {2}).\n",
    "'''.format(train_accuracy, test_accuracy, testing.sum()))"
   ]
  },
  {
   "cell_type": "code",
   "execution_count": null,
   "metadata": {
    "collapsed": true
   },
   "outputs": [],
   "source": []
  }
 ],
 "metadata": {
  "anaconda-cloud": {},
  "kernelspec": {
   "display_name": "Python [conda root]",
   "language": "python",
   "name": "conda-root-py"
  },
  "language_info": {
   "codemirror_mode": {
    "name": "ipython",
    "version": 3
   },
   "file_extension": ".py",
   "mimetype": "text/x-python",
   "name": "python",
   "nbconvert_exporter": "python",
   "pygments_lexer": "ipython3",
   "version": "3.5.2"
  }
 },
 "nbformat": 4,
 "nbformat_minor": 1
}
