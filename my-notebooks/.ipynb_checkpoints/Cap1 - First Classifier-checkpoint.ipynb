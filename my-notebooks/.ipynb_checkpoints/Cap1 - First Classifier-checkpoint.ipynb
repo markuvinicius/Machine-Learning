{
 "cells": [
  {
   "cell_type": "code",
   "execution_count": 1,
   "metadata": {
    "collapsed": true
   },
   "outputs": [],
   "source": [
    "import numpy as np\n",
    "from matplotlib import pyplot as plt\n",
    "\n",
    "# We load the data with load_iris from sklearn\n",
    "from sklearn.datasets import load_iris\n",
    "\n",
    "# load_iris returns an object with several fields\n",
    "data = load_iris()\n",
    "features = data.data\n",
    "feature_names = data.feature_names\n",
    "target = data.target\n",
    "target_names = data.target_names"
   ]
  },
  {
   "cell_type": "code",
   "execution_count": 2,
   "metadata": {
    "collapsed": true
   },
   "outputs": [],
   "source": [
    "labels = target_names[target]"
   ]
  },
  {
   "cell_type": "code",
   "execution_count": 16,
   "metadata": {
    "collapsed": false
   },
   "outputs": [],
   "source": [
    "plength = features[:,2]"
   ]
  },
  {
   "cell_type": "code",
   "execution_count": 17,
   "metadata": {
    "collapsed": false
   },
   "outputs": [],
   "source": [
    "is_setosa = (labels == 'setosa')"
   ]
  },
  {
   "cell_type": "code",
   "execution_count": 21,
   "metadata": {
    "collapsed": false
   },
   "outputs": [],
   "source": [
    "max_setosa = plength[is_setosa].max()"
   ]
  },
  {
   "cell_type": "code",
   "execution_count": 22,
   "metadata": {
    "collapsed": true
   },
   "outputs": [],
   "source": [
    "min_non_setosa = plength[~is_setosa].min()"
   ]
  },
  {
   "cell_type": "code",
   "execution_count": 24,
   "metadata": {
    "collapsed": false
   },
   "outputs": [
    {
     "name": "stdout",
     "output_type": "stream",
     "text": [
      "Maximum of setosa: 1.9.\n",
      "Minimus of non setosa: 3.0.\n"
     ]
    }
   ],
   "source": [
    "print('Maximum of setosa: {0}.'.format(max_setosa))\n",
    "print('Minimus of non setosa: {0}.'.format(min_non_setosa))"
   ]
  },
  {
   "cell_type": "code",
   "execution_count": 38,
   "metadata": {
    "collapsed": false
   },
   "outputs": [
    {
     "data": {
      "text/plain": [
       "(150, 4)"
      ]
     },
     "execution_count": 38,
     "metadata": {},
     "output_type": "execute_result"
    }
   ],
   "source": [
    "np.shape(features)"
   ]
  },
  {
   "cell_type": "code",
   "execution_count": 40,
   "metadata": {
    "collapsed": false
   },
   "outputs": [
    {
     "data": {
      "text/plain": [
       "(150,)"
      ]
     },
     "execution_count": 40,
     "metadata": {},
     "output_type": "execute_result"
    }
   ],
   "source": [
    "np.shape(plength)"
   ]
  },
  {
   "cell_type": "code",
   "execution_count": 43,
   "metadata": {
    "collapsed": true
   },
   "outputs": [],
   "source": [
    "features = features[~is_setosa]"
   ]
  },
  {
   "cell_type": "code",
   "execution_count": 46,
   "metadata": {
    "collapsed": false
   },
   "outputs": [],
   "source": [
    "labels = labels[~is_setosa]"
   ]
  },
  {
   "cell_type": "code",
   "execution_count": 47,
   "metadata": {
    "collapsed": true
   },
   "outputs": [],
   "source": [
    "is_virginica = (labels == 'virginica')"
   ]
  },
  {
   "cell_type": "code",
   "execution_count": 76,
   "metadata": {
    "collapsed": false
   },
   "outputs": [
    {
     "data": {
      "text/plain": [
       "array([ 4.7,  4.5,  4.9,  4. ,  4.6,  4.5,  4.7,  3.3,  4.6,  3.9,  3.5,\n",
       "        4.2,  4. ,  4.7,  3.6,  4.4,  4.5,  4.1,  4.5,  3.9,  4.8,  4. ,\n",
       "        4.9,  4.7,  4.3,  4.4,  4.8,  5. ,  4.5,  3.5,  3.8,  3.7,  3.9,\n",
       "        5.1,  4.5,  4.5,  4.7,  4.4,  4.1,  4. ,  4.4,  4.6,  4. ,  3.3,\n",
       "        4.2,  4.2,  4.2,  4.3,  3. ,  4.1,  6. ,  5.1,  5.9,  5.6,  5.8,\n",
       "        6.6,  4.5,  6.3,  5.8,  6.1,  5.1,  5.3,  5.5,  5. ,  5.1,  5.3,\n",
       "        5.5,  6.7,  6.9,  5. ,  5.7,  4.9,  6.7,  4.9,  5.7,  6. ,  4.8,\n",
       "        4.9,  5.6,  5.8,  6.1,  6.4,  5.6,  5.1,  5.6,  6.1,  5.6,  5.5,\n",
       "        4.8,  5.4,  5.6,  5.1,  5.1,  5.9,  5.7,  5.2,  5. ,  5.2,  5.4,\n",
       "        5.1])"
      ]
     },
     "execution_count": 76,
     "metadata": {},
     "output_type": "execute_result"
    }
   ],
   "source": [
    "features[:,2]"
   ]
  },
  {
   "cell_type": "code",
   "execution_count": 67,
   "metadata": {
    "collapsed": false
   },
   "outputs": [],
   "source": [
    "# Initialize best_acc to impossibly low value\n",
    "best_acc = -1.0\n",
    "for fi in range(features.shape[1]):\n",
    "    # We are going to test all possible thresholds\n",
    "    thresh = features[:,fi]\n",
    "    for t in thresh:\n",
    "        # Get the vector for feature `fi`\n",
    "        feature_i = features[:, fi]\n",
    "        # apply threshold `t`\n",
    "        pred = (feature_i > t)\n",
    "        acc = (pred == is_virginica).mean()\n",
    "        rev_acc = (pred == ~is_virginica).mean()\n",
    "        if rev_acc > acc:\n",
    "            reverse = True\n",
    "            acc = rev_acc\n",
    "        else:\n",
    "            reverse = False\n",
    "\n",
    "        if acc > best_acc:\n",
    "            best_acc = acc\n",
    "            best_fi = fi\n",
    "            best_t = t\n",
    "            best_reverse = reverse"
   ]
  },
  {
   "cell_type": "code",
   "execution_count": 69,
   "metadata": {
    "collapsed": false
   },
   "outputs": [
    {
     "data": {
      "text/plain": [
       "0.93999999999999995"
      ]
     },
     "execution_count": 69,
     "metadata": {},
     "output_type": "execute_result"
    }
   ],
   "source": [
    "best_acc"
   ]
  },
  {
   "cell_type": "code",
   "execution_count": 72,
   "metadata": {
    "collapsed": false
   },
   "outputs": [],
   "source": [
    "def is_virginica_test(fi, t, reverse, example):\n",
    "    \"Apply threshold model to a new example\"\n",
    "    test = example[fi] > t\n",
    "    if reverse:\n",
    "        test = not test\n",
    "    return test"
   ]
  },
  {
   "cell_type": "code",
   "execution_count": null,
   "metadata": {
    "collapsed": true
   },
   "outputs": [],
   "source": []
  }
 ],
 "metadata": {
  "anaconda-cloud": {},
  "kernelspec": {
   "display_name": "Python [conda root]",
   "language": "python",
   "name": "conda-root-py"
  },
  "language_info": {
   "codemirror_mode": {
    "name": "ipython",
    "version": 3
   },
   "file_extension": ".py",
   "mimetype": "text/x-python",
   "name": "python",
   "nbconvert_exporter": "python",
   "pygments_lexer": "ipython3",
   "version": "3.5.2"
  }
 },
 "nbformat": 4,
 "nbformat_minor": 1
}
