{
 "cells": [
  {
   "cell_type": "code",
   "execution_count": 22,
   "metadata": {
    "collapsed": true
   },
   "outputs": [],
   "source": [
    "import numpy as np\n",
    "import scipy as sp\n",
    "import matplotlib.pyplot as plt"
   ]
  },
  {
   "cell_type": "code",
   "execution_count": 4,
   "metadata": {
    "collapsed": false
   },
   "outputs": [],
   "source": [
    "data = sp.genfromtxt(\"/Users/Marku/Google Drive/DATA/Python/BuildingMachineLearningSystemsWithPython-second_edition/ch01/data/web_traffic.tsv\", delimiter=\"\\t\")"
   ]
  },
  {
   "cell_type": "code",
   "execution_count": 15,
   "metadata": {
    "collapsed": false
   },
   "outputs": [
    {
     "name": "stdout",
     "output_type": "stream",
     "text": [
      "[[  1.00000000e+00   2.27200000e+03]\n",
      " [  2.00000000e+00              nan]\n",
      " [  3.00000000e+00   1.38600000e+03]\n",
      " [  4.00000000e+00   1.36500000e+03]\n",
      " [  5.00000000e+00   1.48800000e+03]\n",
      " [  6.00000000e+00   1.33700000e+03]\n",
      " [  7.00000000e+00   1.88300000e+03]\n",
      " [  8.00000000e+00   2.28300000e+03]\n",
      " [  9.00000000e+00   1.33500000e+03]\n",
      " [  1.00000000e+01   1.02500000e+03]]\n",
      "------------\n",
      "(743, 2)\n"
     ]
    }
   ],
   "source": [
    "print(data[:10])\n",
    "print('------------')\n",
    "print(data.shape)"
   ]
  },
  {
   "cell_type": "code",
   "execution_count": 17,
   "metadata": {
    "collapsed": true
   },
   "outputs": [],
   "source": [
    "x = data[:,0]\n",
    "y = data[:,1]"
   ]
  },
  {
   "cell_type": "code",
   "execution_count": 21,
   "metadata": {
    "collapsed": false
   },
   "outputs": [
    {
     "name": "stdout",
     "output_type": "stream",
     "text": [
      "[   1.    3.    4.    5.    6.    7.    8.    9.   10.   11.   12.   13.\n",
      "   14.   15.   16.   17.   18.   19.   20.   21.   22.   24.   25.   26.\n",
      "   27.   28.   29.   30.   31.   32.   33.   34.   35.   36.   37.   38.\n",
      "   39.   40.   41.   42.   43.   44.   45.   46.   47.   49.   50.   51.\n",
      "   52.   53.   54.   55.   56.   57.   58.   59.   60.   61.   62.   63.\n",
      "   64.   65.   66.   67.   68.   69.   70.   71.   72.   73.   74.   75.\n",
      "   76.   77.   78.   79.   80.   81.   82.   83.   84.   85.   86.   87.\n",
      "   88.   89.   90.   91.   92.   93.   94.   96.   97.   98.   99.  100.\n",
      "  101.  102.  103.  104.  105.  106.  107.  108.  109.  110.  111.  112.\n",
      "  113.  114.  115.  116.  117.  118.  119.  120.  121.  122.  123.  124.\n",
      "  125.  126.  127.  128.  129.  130.  131.  132.  133.  134.  135.  136.\n",
      "  137.  138.  139.  140.  141.  142.  143.  144.  145.  146.  147.  148.\n",
      "  149.  150.  151.  152.  153.  155.  156.  157.  158.  159.  160.  161.\n",
      "  162.  163.  164.  165.  166.  167.  168.  169.  170.  171.  172.  173.\n",
      "  174.  175.  176.  177.  178.  179.  182.  183.  184.  185.  186.  187.\n",
      "  188.  189.  190.  191.  192.  193.  194.  195.  196.  197.  198.  199.\n",
      "  200.  201.  202.  203.  204.  205.  206.  207.  208.  209.  211.  212.\n",
      "  213.  214.  215.  216.  217.  218.  219.  220.  221.  222.  223.  224.\n",
      "  225.  226.  227.  228.  229.  230.  231.  232.  233.  234.  235.  236.\n",
      "  237.  238.  239.  240.  241.  242.  243.  244.  245.  246.  247.  248.\n",
      "  249.  250.  251.  252.  253.  254.  255.  256.  257.  258.  259.  260.\n",
      "  261.  262.  263.  264.  265.  266.  267.  268.  269.  270.  271.  272.\n",
      "  273.  274.  275.  276.  277.  278.  279.  280.  281.  282.  283.  284.\n",
      "  285.  286.  287.  288.  289.  290.  291.  292.  293.  294.  295.  296.\n",
      "  297.  298.  299.  300.  301.  302.  303.  304.  305.  306.  307.  308.\n",
      "  309.  310.  311.  312.  313.  314.  315.  316.  317.  318.  319.  320.\n",
      "  321.  322.  323.  324.  325.  326.  327.  328.  329.  330.  331.  332.\n",
      "  333.  334.  335.  336.  337.  338.  339.  340.  341.  342.  343.  344.\n",
      "  345.  346.  347.  348.  349.  350.  351.  352.  353.  354.  355.  356.\n",
      "  357.  358.  359.  360.  361.  362.  363.  364.  365.  366.  367.  368.\n",
      "  369.  370.  371.  372.  373.  374.  375.  376.  377.  378.  379.  380.\n",
      "  381.  382.  383.  384.  385.  386.  387.  388.  389.  390.  391.  392.\n",
      "  393.  394.  395.  396.  397.  398.  399.  400.  401.  402.  403.  404.\n",
      "  405.  406.  407.  408.  409.  410.  411.  412.  413.  414.  415.  416.\n",
      "  417.  418.  419.  420.  421.  422.  423.  424.  425.  426.  427.  428.\n",
      "  429.  430.  431.  432.  433.  434.  435.  436.  437.  438.  439.  440.\n",
      "  441.  442.  443.  444.  445.  446.  447.  448.  449.  450.  451.  452.\n",
      "  453.  454.  455.  456.  457.  458.  459.  460.  461.  462.  463.  464.\n",
      "  465.  466.  467.  468.  469.  470.  471.  472.  473.  474.  475.  476.\n",
      "  477.  478.  479.  480.  481.  482.  483.  484.  485.  486.  487.  488.\n",
      "  489.  490.  491.  492.  493.  494.  495.  496.  497.  498.  499.  500.\n",
      "  501.  502.  503.  504.  505.  506.  507.  508.  509.  510.  511.  512.\n",
      "  513.  514.  515.  516.  517.  518.  519.  520.  521.  522.  523.  524.\n",
      "  525.  526.  527.  528.  529.  530.  531.  532.  533.  534.  535.  536.\n",
      "  537.  538.  539.  540.  541.  542.  543.  544.  545.  546.  547.  548.\n",
      "  549.  550.  551.  552.  553.  554.  555.  556.  557.  558.  559.  560.\n",
      "  561.  562.  563.  564.  565.  566.  567.  568.  569.  570.  571.  572.\n",
      "  573.  574.  575.  576.  577.  578.  579.  580.  581.  582.  583.  584.\n",
      "  585.  586.  587.  588.  589.  590.  591.  592.  593.  594.  595.  596.\n",
      "  597.  598.  599.  600.  601.  602.  603.  604.  605.  606.  607.  608.\n",
      "  609.  610.  611.  612.  613.  614.  615.  616.  617.  618.  619.  620.\n",
      "  621.  622.  623.  624.  625.  626.  627.  628.  629.  630.  631.  632.\n",
      "  633.  634.  635.  636.  637.  638.  639.  640.  641.  642.  643.  644.\n",
      "  645.  646.  647.  648.  649.  650.  651.  652.  653.  654.  655.  656.\n",
      "  657.  658.  659.  660.  661.  662.  663.  664.  665.  666.  667.  668.\n",
      "  669.  670.  671.  672.  673.  674.  675.  676.  677.  678.  679.  680.\n",
      "  681.  682.  683.  684.  685.  686.  687.  688.  689.  690.  691.  692.\n",
      "  693.  694.  695.  696.  697.  698.  699.  700.  701.  702.  703.  704.\n",
      "  705.  706.  707.  708.  709.  710.  711.  712.  713.  714.  715.  716.\n",
      "  717.  718.  719.  720.  721.  722.  723.  724.  725.  726.  727.  728.\n",
      "  729.  730.  731.  732.  733.  734.  735.  736.  737.  738.  739.  740.\n",
      "  741.  742.  743.]\n",
      "-----------\n",
      "[ 2272.  1386.  1365.  1488.  1337.  1883.  2283.  1335.  1025.  1139.\n",
      "  1477.  1203.  1311.  1299.  1494.  1159.  1365.  1272.  1246.  1071.\n",
      "  1876.  1410.   925.  1533.  2104.  2113.  1993.  1045.  2090.  2227.\n",
      "  1413.  1718.  1721.  1291.  1838.  2540.  1608.  2455.  1929.  1767.\n",
      "  1203.  1761.  1723.  2160.   808.  1324.  1809.  1933.  1351.  2013.\n",
      "  1207.  2170.  1700.  1899.  1757.  1475.  1921.  1971.  1809.  1365.\n",
      "  1775.  1687.  1706.  1353.  1316.  1512.  2430.  1788.  1380.  1357.\n",
      "   990.  1586.  2057.  1690.  1458.  1201.  1949.  1493.  1653.  1217.\n",
      "  1457.  1179.  1484.  2730.  1414.  1060.  1573.  1260.  1216.   981.\n",
      "  1345.  1667.   730.  1034.  1628.  1155.  1305.  1444.  2242.  1842.\n",
      "  1210.  1384.  1313.  1508.  1796.  1265.  1090.  2159.  1167.  1391.\n",
      "  1445.  1196.  1049.  1999.   472.  1285.  1737.  1534.  2636.  1372.\n",
      "  1325.   833.  1200.  2431.  1740.  2121.  1726.  1344.  1072.  1386.\n",
      "  1054.  1051.  1270.  1857.  1437.  2016.  1352.   909.  1761.  1009.\n",
      "  2035.  1534.  1708.   733.  1455.  1332.  1606.  1065.  1291.  1495.\n",
      "  1928.  2249.   987.  1023.   875.  1569.  1032.  1079.  1087.  1152.\n",
      "   961.  1232.  2188.  1179.  1475.  1612.   921.  2432.  1650.  1077.\n",
      "   823.  1578.  1872.  1669.  1407.  1619.   894.  1948.  2298.  2163.\n",
      "  1108.  1731.  1601.  1684.  2025.  1688.  1736.  1474.  1770.  1348.\n",
      "  1570.  1861.  1458.  2282.  1553.  2323.  1202.  1768.  2184.  1329.\n",
      "  1781.  1242.  1454.  1501.   875.  1521.  2611.  1948.  1707.  1335.\n",
      "  2211.  1358.  2501.  1764.  1527.  1421.  1949.  2156.  1503.  1658.\n",
      "  1032.  1536.  1345.  2022.  2035.  2109.  1587.  1666.  1064.  1457.\n",
      "  2399.  1449.  2406.  1831.  1423.  1754.  1641.  1428.  1928.  1618.\n",
      "  1361.  1273.  1300.   997.  1163.  1480.  2131.  1833.  1161.  1168.\n",
      "  1570.  1675.   966.  1395.  1638.  1713.  1799.  1917.  1894.  1009.\n",
      "  1003.  1962.  1730.   731.  2166.  1059.  1520.  1708.  1227.  1085.\n",
      "  1045.  1720.  1495.   960.  1420.  1318.   740.   878.  1357.  2318.\n",
      "  1544.  1583.  1693.  1153.  1469.  2004.  1114.  1281.  1500.  1409.\n",
      "   942.   792.   704.  1584.  1004.   795.  1000.  2156.   639.  1391.\n",
      "  1644.  1398.   967.  1578.  1068.  1419.  1784.  1952.   996.  1485.\n",
      "  1419.  1534.  1633.  1013.  2085.  3102.  1859.   983.  2169.  2086.\n",
      "  2204.  1578.  1526.  1725.   936.  1678.  1573.  1187.  1535.  1333.\n",
      "  1701.  1925.  1651.  1491.  1800.  1976.  1246.  2141.  1351.  1505.\n",
      "  1377.  2386.  1304.  1424.  1881.  2393.  1599.  1444.  1985.  1158.\n",
      "  2098.  1540.  1410.  2115.  1278.  2039.  2021.  1901.  1139.  1903.\n",
      "  2074.  3661.  1799.  2431.  1499.  1040.  1825.  1733.  1727.  1076.\n",
      "  1598.  1146.  1534.  1514.  1540.  1445.  1248.  1710.  2114.  1816.\n",
      "  1759.  2173.  1791.  1710.  1930.  1803.  1879.  2289.  1839.  1641.\n",
      "  1374.  1524.  1360.  1303.  1654.  1928.  1558.  1736.  1752.  1042.\n",
      "  1201.  1498.  2101.  2389.  1326.  1285.  1413.  1970.  1242.  1920.\n",
      "  1163.  1651.  1300.  1850.  1799.  1703.  1627.  1522.  1409.  2631.\n",
      "  1647.  1536.  1433.  1749.  1274.  1658.  1579.  1607.  1382.  1322.\n",
      "  1168.  1067.  1890.  1659.  1064.   868.  1288.  2166.  1382.  1417.\n",
      "  2018.  1777.  1596.  1420.  1324.  1899.  1513.  1683.  1369.  1266.\n",
      "  1034.  2045.  1498.  1607.  1331.  1132.  1238.  2298.  1241.  2039.\n",
      "  1177.  1220.  1746.  1917.  1165.   860.  1830.  1170.  1229.  1274.\n",
      "  1900.  1867.  1610.  1963.  1669.  1291.  1751.  1335.  1323.  1652.\n",
      "  2086.  1437.  1731.  1950.  2203.  2260.  1580.  1562.  1860.  1793.\n",
      "  1000.  1912.  2475.  2105.  1732.  2309.  1874.  1816.  1097.  2015.\n",
      "  2241.  2772.  1320.  2738.  1389.  2251.  2167.  2028.  1590.  2341.\n",
      "  2011.  1613.  1671.  1999.  2894.  2637.  1884.  2404.  2255.  1960.\n",
      "  1847.  1558.  1559.  2040.  1996.  2051.  1803.  1969.  1937.  2082.\n",
      "  1408.  2731.  2220.  2330.  2437.  1915.  1986.  2145.  2276.  2157.\n",
      "  2626.  1536.  1558.  3044.  2246.  2383.  2009.  1972.  2145.  2102.\n",
      "  2327.  1732.  2640.  1992.  2199.  2393.  2190.  2495.  2390.  2435.\n",
      "  1737.  2052.  2034.  1834.  3005.  1429.  2215.  1902.  2284.  1993.\n",
      "  2059.  2169.  1981.  2098.  2506.  1911.  2560.  1301.  1859.  2286.\n",
      "  1734.  2156.  2402.  2404.  3244.  1977.  2412.  2007.  2014.  1564.\n",
      "  2022.  1772.  2582.  1845.  1621.  1770.  2021.  2355.  1996.  2127.\n",
      "  2113.  1935.  2125.  1786.  2276.  2978.  2542.  2112.  1968.  2368.\n",
      "  2241.  2073.  2122.  2166.  2575.  2500.  2181.  1967.  2072.  2027.\n",
      "  2345.  2024.  2249.  2455.  2265.  2425.  2851.  1997.  3298.  2366.\n",
      "  1853.  2896.  2537.  2300.  2849.  2974.  1931.  3009.  2538.  2782.\n",
      "  2491.  2408.  2003.  2752.  2576.  2818.  2683.  2628.  2994.  2303.\n",
      "  2771.  2607.  2704.  2839.  3256.  3025.  2684.  3006.  3310.  3183.\n",
      "  2523.  3401.  2840.  3193.  2969.  3337.  3464.  3264.  3535.  3089.\n",
      "  2935.  3007.  4000.  3488.  2814.  3382.  2901.  4260.  3785.  4139.\n",
      "  3588.  3343.  3118.  3456.  4150.  3827.  3992.  4667.  3301.  3931.\n",
      "  4496.  3402.  3672.  3550.  4230.  3805.  3352.  3602.  4015.  3548.\n",
      "  3316.  3932.  3596.  5289.  3561.  3990.  3889.  3636.  3799.  4188.\n",
      "  5248.  4176.  4829.  4346.  4224.  4813.  3997.  4357.  4322.  4156.\n",
      "  4630.  4415.  4410.  4724.  4363.  4798.  4749.  5143.  4906.  4309.\n",
      "  4970.  4813.  5392.  5906.  4881.]\n"
     ]
    }
   ],
   "source": [
    "print(x)\n",
    "print('-----------')\n",
    "print(y)"
   ]
  },
  {
   "cell_type": "code",
   "execution_count": 19,
   "metadata": {
    "collapsed": false
   },
   "outputs": [
    {
     "data": {
      "text/plain": [
       "8"
      ]
     },
     "execution_count": 19,
     "metadata": {},
     "output_type": "execute_result"
    }
   ],
   "source": [
    "sp.sum(sp.isnan(y))"
   ]
  },
  {
   "cell_type": "code",
   "execution_count": 20,
   "metadata": {
    "collapsed": true
   },
   "outputs": [],
   "source": [
    "x = x[~sp.isnan(y)]\n",
    "y = y[~sp.isnan(y)]"
   ]
  },
  {
   "cell_type": "code",
   "execution_count": 42,
   "metadata": {
    "collapsed": false
   },
   "outputs": [
    {
     "data": {
      "image/png": "[encoded data removed]",
      "text/plain": [
       "<matplotlib.figure.Figure at 0x10df32278>"
      ]
     },
     "metadata": {},
     "output_type": "display_data"
    }
   ],
   "source": [
    "# plot the (x,y) points with dots of size 10\n",
    "plt.scatter(x, y, s=10)\n",
    "plt.title(\"Web traffic over the last month\")\n",
    "plt.xlabel(\"Time\")\n",
    "plt.ylabel(\"Hits/hour\")\n",
    "plt.xticks( [w*7*24 for w in range(10) ] , [ 'week %i' % w for w in range(10) ] )\n",
    "plt.autoscale( tight = True )\n",
    "\n",
    "# draw a slightly opaque, dashed grid\n",
    "plt.grid(True, linestyle='-', color='0.75')\n",
    "\n",
    "# fitting new lines \n",
    "fx = sp.linspace(0,x[-1], 1000) # generate X-values for plotting\n",
    "plt.plot(fx, f1(fx), linewidth=4)\n",
    "plt.legend([\"d=%i\" % f1.order], loc=\"upper left\")\n",
    "\n",
    "#exibe o gráfico\n",
    "plt.show()"
   ]
  },
  {
   "cell_type": "code",
   "execution_count": 40,
   "metadata": {
    "collapsed": true
   },
   "outputs": [],
   "source": [
    "def error(f, x, y):\n",
    "    return sp.sum((f(x)-y)**2)"
   ]
  },
  {
   "cell_type": "code",
   "execution_count": 44,
   "metadata": {
    "collapsed": true
   },
   "outputs": [],
   "source": [
    "sp.polyfit?"
   ]
  },
  {
   "cell_type": "markdown",
   "metadata": {},
   "source": [
    "Testando polinomio de grau 1"
   ]
  },
  {
   "cell_type": "code",
   "execution_count": 31,
   "metadata": {
    "collapsed": true
   },
   "outputs": [],
   "source": [
    "fp1, residuals, rank, sv, rcond = sp.polyfit(x, y, 1, full=True)"
   ]
  },
  {
   "cell_type": "code",
   "execution_count": 33,
   "metadata": {
    "collapsed": false
   },
   "outputs": [
    {
     "name": "stdout",
     "output_type": "stream",
     "text": [
      "Model parameters: [   2.59619213  989.02487106]\n"
     ]
    }
   ],
   "source": [
    "print(\"Model parameters: %s\" % fp1)"
   ]
  },
  {
   "cell_type": "code",
   "execution_count": 34,
   "metadata": {
    "collapsed": true
   },
   "outputs": [],
   "source": [
    "f1 = sp.poly1d(fp1)"
   ]
  },
  {
   "cell_type": "code",
   "execution_count": 35,
   "metadata": {
    "collapsed": false
   },
   "outputs": [
    {
     "name": "stdout",
     "output_type": "stream",
     "text": [
      "317389767.34\n"
     ]
    }
   ],
   "source": [
    "print(error(f1, x, y))"
   ]
  },
  {
   "cell_type": "markdown",
   "metadata": {},
   "source": [
    "Testando polinomio grau 2"
   ]
  },
  {
   "cell_type": "code",
   "execution_count": 45,
   "metadata": {
    "collapsed": true
   },
   "outputs": [],
   "source": [
    "f2p = sp.polyfit(x, y, 2)"
   ]
  },
  {
   "cell_type": "code",
   "execution_count": 47,
   "metadata": {
    "collapsed": false
   },
   "outputs": [
    {
     "name": "stdout",
     "output_type": "stream",
     "text": [
      "[  1.05322215e-02  -5.26545650e+00   1.97476082e+03]\n"
     ]
    }
   ],
   "source": [
    "print(f2p)"
   ]
  },
  {
   "cell_type": "code",
   "execution_count": null,
   "metadata": {
    "collapsed": true
   },
   "outputs": [],
   "source": []
  }
 ],
 "metadata": {
  "anaconda-cloud": {},
  "kernelspec": {
   "display_name": "Python [conda root]",
   "language": "python",
   "name": "conda-root-py"
  },
  "language_info": {
   "codemirror_mode": {
    "name": "ipython",
    "version": 3
   },
   "file_extension": ".py",
   "mimetype": "text/x-python",
   "name": "python",
   "nbconvert_exporter": "python",
   "pygments_lexer": "ipython3",
   "version": "3.5.2"
  }
 },
 "nbformat": 4,
 "nbformat_minor": 1
}
